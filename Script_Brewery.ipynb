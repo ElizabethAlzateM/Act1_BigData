{
 "cells": [
  {
   "cell_type": "markdown",
   "metadata": {},
   "source": [
    "EA 1: Parte 1 del proyecto integrador - Ingestión de Datos desde un API _ Jimy Mora y ELizabeth Alzate\n"
   ]
  },
  {
   "cell_type": "code",
   "execution_count": 1,
   "metadata": {},
   "outputs": [],
   "source": [
    "#Importamos las librerías\n",
    "import requests\n",
    "import pandas as pd\n",
    "import sqlite3"
   ]
  },
  {
   "cell_type": "code",
   "execution_count": 2,
   "metadata": {},
   "outputs": [],
   "source": [
    "#Conexión a la API\n",
    "url = 'https://api.openbrewerydb.org/v1/breweries'\n",
    "response = requests.get(url)\n",
    "data = response.json()"
   ]
  },
  {
   "cell_type": "code",
   "execution_count": 3,
   "metadata": {},
   "outputs": [
    {
     "name": "stdout",
     "output_type": "stream",
     "text": [
      "                                     id                     name brewery_type  \\\n",
      "0  5128df48-79fc-4f0f-8b52-d06be54d0cec         (405) Brewing Co        micro   \n",
      "1  9c5a66c8-cc13-416f-a5d9-0a769c87d318         (512) Brewing Co        micro   \n",
      "2  34e8c68b-6146-453f-a4b9-1f6cd99a5ada  1 of Us Brewing Company        micro   \n",
      "3  6d14b220-8926-4521-8d19-b98a2d6ec3db     10 Barrel Brewing Co        large   \n",
      "4  e2e78bd8-80ff-4a61-a65c-3bfbd9d76ce2     10 Barrel Brewing Co        large   \n",
      "\n",
      "                     address_1 address_2 address_3            city  \\\n",
      "0               1716 Topeka St      None      None          Norman   \n",
      "1        407 Radam Ln Ste F200      None      None          Austin   \n",
      "2          8100 Washington Ave      None      None  Mount Pleasant   \n",
      "3                62970 18th St      None      None            Bend   \n",
      "4  1135 NW Galveston Ave Ste B      None      None            Bend   \n",
      "\n",
      "  state_province postal_code        country           longitude  \\\n",
      "0       Oklahoma  73069-8224  United States        -97.46818222   \n",
      "1          Texas  78745-1197  United States                None   \n",
      "2      Wisconsin  53406-3920  United States  -87.88336350209435   \n",
      "3         Oregon  97701-9847  United States         -121.281706   \n",
      "4         Oregon  97703-2465  United States        -121.3288021   \n",
      "\n",
      "            latitude       phone                   website_url      state  \\\n",
      "0        35.25738891  4058160490     http://www.405brewing.com   Oklahoma   \n",
      "1               None  5129211545     http://www.512brewing.com      Texas   \n",
      "2  42.72010826899558  2624847553  https://www.1ofusbrewing.com  Wisconsin   \n",
      "3        44.08683531  5415851007       http://www.10barrel.com     Oregon   \n",
      "4         44.0575649  5415851007                          None     Oregon   \n",
      "\n",
      "                        street  \n",
      "0               1716 Topeka St  \n",
      "1        407 Radam Ln Ste F200  \n",
      "2          8100 Washington Ave  \n",
      "3                62970 18th St  \n",
      "4  1135 NW Galveston Ave Ste B  \n"
     ]
    }
   ],
   "source": [
    "# Convertimos los datos a un DataFrame de Pandas\n",
    "df = pd.DataFrame(data)\n",
    "print(df.head())"
   ]
  },
  {
   "cell_type": "code",
   "execution_count": 4,
   "metadata": {},
   "outputs": [],
   "source": [
    "# Crear la conexión a la base de datos SQLite\n",
    "conn = sqlite3.connect('brewery.db')\n",
    "cursor = conn.cursor()"
   ]
  },
  {
   "cell_type": "code",
   "execution_count": 5,
   "metadata": {},
   "outputs": [
    {
     "data": {
      "text/plain": [
       "<sqlite3.Cursor at 0x270e3750d40>"
      ]
     },
     "execution_count": 5,
     "metadata": {},
     "output_type": "execute_result"
    }
   ],
   "source": [
    "# Creamos la tabla 'breweries' con las columnas especificadas\n",
    "cursor.execute('''\n",
    "    CREATE TABLE IF NOT EXISTS breweries (\n",
    "        id TEXT PRIMARY KEY,\n",
    "        name TEXT,\n",
    "        brewery_type TEXT,\n",
    "        address_1 TEXT,\n",
    "        address_2 TEXT,\n",
    "        address_3 TEXT,\n",
    "        city TEXT,\n",
    "        state_province TEXT,\n",
    "        postal_code TEXT,\n",
    "        country TEXT,\n",
    "        longitude REAL,\n",
    "        latitude REAL,\n",
    "        phone TEXT,\n",
    "        website_url TEXT,\n",
    "        state TEXT,\n",
    "        street TEXT\n",
    "    )\n",
    "''')"
   ]
  },
  {
   "cell_type": "code",
   "execution_count": 6,
   "metadata": {},
   "outputs": [
    {
     "data": {
      "text/plain": [
       "50"
      ]
     },
     "execution_count": 6,
     "metadata": {},
     "output_type": "execute_result"
    }
   ],
   "source": [
    "# Insertar los datos en la tabla 'breweries'\n",
    "df.to_sql('breweries', conn, if_exists='replace', index=False)"
   ]
  },
  {
   "cell_type": "code",
   "execution_count": 7,
   "metadata": {},
   "outputs": [],
   "source": [
    "# Cerramos la conexión a la base de datos\n",
    "conn.close()"
   ]
  },
  {
   "cell_type": "code",
   "execution_count": 8,
   "metadata": {},
   "outputs": [],
   "source": [
    "# Guardar los datos en un archivo CSV\n",
    "df.to_csv('breweries_data.csv', index=False)"
   ]
  },
  {
   "cell_type": "code",
   "execution_count": 9,
   "metadata": {},
   "outputs": [],
   "source": [
    "# Guardamos los datos en un archivo Excel\n",
    "df.to_excel('breweries_data.xlsx', index=False)"
   ]
  },
  {
   "cell_type": "code",
   "execution_count": 10,
   "metadata": {},
   "outputs": [
    {
     "name": "stdout",
     "output_type": "stream",
     "text": [
      "Datos almacenados en la base de datos y archivos generados exitosamente.\n"
     ]
    }
   ],
   "source": [
    "# Mostramos mensaje de éxito\n",
    "print(\"Datos almacenados en la base de datos y archivos generados exitosamente.\")"
   ]
  },
  {
   "cell_type": "markdown",
   "metadata": {},
   "source": [
    "Archivo de Auditoría"
   ]
  },
  {
   "cell_type": "code",
   "execution_count": 11,
   "metadata": {},
   "outputs": [
    {
     "name": "stdout",
     "output_type": "stream",
     "text": [
      "Archivo de auditoría creado exitosamente.\n"
     ]
    }
   ],
   "source": [
    "import pandas as pd\n",
    "import sqlite3\n",
    "\n",
    "# Conectar a la base de datos y leer los datos almacenados\n",
    "conn = sqlite3.connect('brewery.db')\n",
    "stored_data = pd.read_sql('SELECT * FROM breweries', conn)\n",
    "\n",
    "# Comparar los datos\n",
    "diferencias = pd.concat([df, stored_data]).drop_duplicates(keep=False)\n",
    "\n",
    "# Guardar el archivo de auditoría\n",
    "with open('auditoria.txt', 'w') as file:\n",
    "    file.write(diferencias.to_string())\n",
    "\n",
    "conn.close()\n",
    "\n",
    "# Mostrar mensaje de éxito\n",
    "print(\"Archivo de auditoría creado exitosamente.\")"
   ]
  }
 ],
 "metadata": {
  "kernelspec": {
   "display_name": "base",
   "language": "python",
   "name": "python3"
  },
  "language_info": {
   "codemirror_mode": {
    "name": "ipython",
    "version": 3
   },
   "file_extension": ".py",
   "mimetype": "text/x-python",
   "name": "python",
   "nbconvert_exporter": "python",
   "pygments_lexer": "ipython3",
   "version": "3.12.7"
  }
 },
 "nbformat": 4,
 "nbformat_minor": 2
}
